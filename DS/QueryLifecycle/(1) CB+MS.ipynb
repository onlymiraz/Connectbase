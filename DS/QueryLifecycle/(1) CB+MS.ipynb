{
 "cells": [
  {
   "cell_type": "code",
   "execution_count": 1,
   "metadata": {},
   "outputs": [],
   "source": [
    "import pandas as pd\n",
    "from datetime import datetime"
   ]
  },
  {
   "cell_type": "code",
   "execution_count": 2,
   "metadata": {},
   "outputs": [],
   "source": [
    "cb = pd.read_csv(\"data/CB240302_Broadband.csv\")\n",
    "cbet = pd.read_csv(\"data/CB240302_Ethernet.csv\")\n",
    "msbbet = pd.read_csv(\"data/MS240302.csv\")"
   ]
  },
  {
   "cell_type": "code",
   "execution_count": 3,
   "metadata": {},
   "outputs": [
    {
     "data": {
      "text/html": [
       "<div>\n",
       "<style scoped>\n",
       "    .dataframe tbody tr th:only-of-type {\n",
       "        vertical-align: middle;\n",
       "    }\n",
       "\n",
       "    .dataframe tbody tr th {\n",
       "        vertical-align: top;\n",
       "    }\n",
       "\n",
       "    .dataframe thead th {\n",
       "        text-align: right;\n",
       "    }\n",
       "</style>\n",
       "<table border=\"1\" class=\"dataframe\">\n",
       "  <thead>\n",
       "    <tr style=\"text-align: right;\">\n",
       "      <th></th>\n",
       "      <th>﻿Login</th>\n",
       "      <th>Route</th>\n",
       "      <th>Address</th>\n",
       "      <th>City</th>\n",
       "      <th>State</th>\n",
       "      <th>ZIP</th>\n",
       "      <th>County</th>\n",
       "      <th>Country</th>\n",
       "      <th>Requesting Company</th>\n",
       "      <th>User Company</th>\n",
       "      <th>Target Company</th>\n",
       "      <th>Request Date</th>\n",
       "      <th>Result</th>\n",
       "      <th>Product</th>\n",
       "      <th>Error Message</th>\n",
       "    </tr>\n",
       "  </thead>\n",
       "  <tbody>\n",
       "    <tr>\n",
       "      <th>0</th>\n",
       "      <td>erik.sacchitella@crowncastle.com</td>\n",
       "      <td>Internal API</td>\n",
       "      <td>811 Louisiana St</td>\n",
       "      <td>Houston</td>\n",
       "      <td>TX</td>\n",
       "      <td>77002</td>\n",
       "      <td>NaN</td>\n",
       "      <td>USA</td>\n",
       "      <td>Crown Castle</td>\n",
       "      <td>NaN</td>\n",
       "      <td>Frontier Communications Corporation</td>\n",
       "      <td>2024-03-02T23:18:22.000Z</td>\n",
       "      <td>Fail</td>\n",
       "      <td>Ethernet - Switched</td>\n",
       "      <td>Pricing not found</td>\n",
       "    </tr>\n",
       "    <tr>\n",
       "      <th>1</th>\n",
       "      <td>erik.sacchitella@crowncastle.com</td>\n",
       "      <td>Internal API</td>\n",
       "      <td>811 Louisiana St</td>\n",
       "      <td>Houston</td>\n",
       "      <td>TX</td>\n",
       "      <td>77002</td>\n",
       "      <td>NaN</td>\n",
       "      <td>USA</td>\n",
       "      <td>Crown Castle</td>\n",
       "      <td>NaN</td>\n",
       "      <td>Frontier Communications Corporation</td>\n",
       "      <td>2024-03-02T23:18:22.000Z</td>\n",
       "      <td>Fail</td>\n",
       "      <td>Ethernet - Dedicated</td>\n",
       "      <td>Pricing not found</td>\n",
       "    </tr>\n",
       "    <tr>\n",
       "      <th>2</th>\n",
       "      <td>erik.sacchitella@crowncastle.com</td>\n",
       "      <td>Internal API</td>\n",
       "      <td>811 Louisiana St</td>\n",
       "      <td>Houston</td>\n",
       "      <td>TX</td>\n",
       "      <td>77002</td>\n",
       "      <td>NaN</td>\n",
       "      <td>USA</td>\n",
       "      <td>Crown Castle</td>\n",
       "      <td>NaN</td>\n",
       "      <td>Frontier Communications Corporation</td>\n",
       "      <td>2024-03-02T23:18:22.000Z</td>\n",
       "      <td>Fail</td>\n",
       "      <td>Ethernet - Switched w/COS</td>\n",
       "      <td>Pricing not found</td>\n",
       "    </tr>\n",
       "    <tr>\n",
       "      <th>3</th>\n",
       "      <td>bapostolico@spectrotel.com</td>\n",
       "      <td>Internal API</td>\n",
       "      <td>3085 Loma Vista Rd</td>\n",
       "      <td>Ventura</td>\n",
       "      <td>CA</td>\n",
       "      <td>93003</td>\n",
       "      <td>NaN</td>\n",
       "      <td>USA</td>\n",
       "      <td>Spectrotel</td>\n",
       "      <td>NaN</td>\n",
       "      <td>Frontier Communications Corporation</td>\n",
       "      <td>2024-03-02T21:22:04.000Z</td>\n",
       "      <td>Fail</td>\n",
       "      <td>Dedicated Internet - Managed</td>\n",
       "      <td>Pricing not found</td>\n",
       "    </tr>\n",
       "    <tr>\n",
       "      <th>4</th>\n",
       "      <td>bapostolico@spectrotel.com</td>\n",
       "      <td>Internal API</td>\n",
       "      <td>3085 Loma Vista Rd</td>\n",
       "      <td>Ventura</td>\n",
       "      <td>CA</td>\n",
       "      <td>93003</td>\n",
       "      <td>NaN</td>\n",
       "      <td>USA</td>\n",
       "      <td>Spectrotel</td>\n",
       "      <td>NaN</td>\n",
       "      <td>Frontier Communications Corporation</td>\n",
       "      <td>2024-03-02T21:22:04.000Z</td>\n",
       "      <td>Fail</td>\n",
       "      <td>Dedicated Internet</td>\n",
       "      <td>Pricing not found</td>\n",
       "    </tr>\n",
       "  </tbody>\n",
       "</table>\n",
       "</div>"
      ],
      "text/plain": [
       "                             ﻿Login         Route             Address  \\\n",
       "0  erik.sacchitella@crowncastle.com  Internal API    811 Louisiana St   \n",
       "1  erik.sacchitella@crowncastle.com  Internal API    811 Louisiana St   \n",
       "2  erik.sacchitella@crowncastle.com  Internal API    811 Louisiana St   \n",
       "3        bapostolico@spectrotel.com  Internal API  3085 Loma Vista Rd   \n",
       "4        bapostolico@spectrotel.com  Internal API  3085 Loma Vista Rd   \n",
       "\n",
       "      City State    ZIP County Country Requesting Company User Company  \\\n",
       "0  Houston    TX  77002    NaN     USA       Crown Castle          NaN   \n",
       "1  Houston    TX  77002    NaN     USA       Crown Castle          NaN   \n",
       "2  Houston    TX  77002    NaN     USA       Crown Castle          NaN   \n",
       "3  Ventura    CA  93003    NaN     USA         Spectrotel          NaN   \n",
       "4  Ventura    CA  93003    NaN     USA         Spectrotel          NaN   \n",
       "\n",
       "                        Target Company              Request Date Result  \\\n",
       "0  Frontier Communications Corporation  2024-03-02T23:18:22.000Z   Fail   \n",
       "1  Frontier Communications Corporation  2024-03-02T23:18:22.000Z   Fail   \n",
       "2  Frontier Communications Corporation  2024-03-02T23:18:22.000Z   Fail   \n",
       "3  Frontier Communications Corporation  2024-03-02T21:22:04.000Z   Fail   \n",
       "4  Frontier Communications Corporation  2024-03-02T21:22:04.000Z   Fail   \n",
       "\n",
       "                        Product      Error Message  \n",
       "0           Ethernet - Switched  Pricing not found  \n",
       "1          Ethernet - Dedicated  Pricing not found  \n",
       "2     Ethernet - Switched w/COS  Pricing not found  \n",
       "3  Dedicated Internet - Managed  Pricing not found  \n",
       "4            Dedicated Internet  Pricing not found  "
      ]
     },
     "execution_count": 3,
     "metadata": {},
     "output_type": "execute_result"
    }
   ],
   "source": [
    "cb.head()"
   ]
  },
  {
   "cell_type": "code",
   "execution_count": 4,
   "metadata": {},
   "outputs": [
    {
     "data": {
      "text/html": [
       "<div>\n",
       "<style scoped>\n",
       "    .dataframe tbody tr th:only-of-type {\n",
       "        vertical-align: middle;\n",
       "    }\n",
       "\n",
       "    .dataframe tbody tr th {\n",
       "        vertical-align: top;\n",
       "    }\n",
       "\n",
       "    .dataframe thead th {\n",
       "        text-align: right;\n",
       "    }\n",
       "</style>\n",
       "<table border=\"1\" class=\"dataframe\">\n",
       "  <thead>\n",
       "    <tr style=\"text-align: right;\">\n",
       "      <th></th>\n",
       "      <th>Request Date</th>\n",
       "      <th>User Company</th>\n",
       "      <th>Submitting User</th>\n",
       "      <th>RFQ#</th>\n",
       "      <th>Responsible</th>\n",
       "      <th>Product</th>\n",
       "      <th>Status</th>\n",
       "      <th>Address</th>\n",
       "      <th>City</th>\n",
       "      <th>State</th>\n",
       "      <th>ZIP</th>\n",
       "      <th>Old Address</th>\n",
       "    </tr>\n",
       "  </thead>\n",
       "  <tbody>\n",
       "    <tr>\n",
       "      <th>0</th>\n",
       "      <td>3/2/2024 14:06</td>\n",
       "      <td>Fusion</td>\n",
       "      <td>James Abraham</td>\n",
       "      <td>5562126243</td>\n",
       "      <td>Unassigned</td>\n",
       "      <td>Broadband</td>\n",
       "      <td>Ready</td>\n",
       "      <td>153 HAZARD AVE</td>\n",
       "      <td>ENFIELD</td>\n",
       "      <td>CT</td>\n",
       "      <td>6082</td>\n",
       "      <td>153 HAZARD AVE, ENFIELD, CT 06082</td>\n",
       "    </tr>\n",
       "    <tr>\n",
       "      <th>1</th>\n",
       "      <td>3/2/2024 14:06</td>\n",
       "      <td>Fusion</td>\n",
       "      <td>James Abraham</td>\n",
       "      <td>2009298532</td>\n",
       "      <td>Unassigned</td>\n",
       "      <td>EIA</td>\n",
       "      <td>Ready</td>\n",
       "      <td>153 HAZARD AVE</td>\n",
       "      <td>ENFIELD</td>\n",
       "      <td>CT</td>\n",
       "      <td>6082</td>\n",
       "      <td>153 HAZARD AVE, ENFIELD, CT 06082</td>\n",
       "    </tr>\n",
       "    <tr>\n",
       "      <th>2</th>\n",
       "      <td>3/2/2024 14:05</td>\n",
       "      <td>Fusion</td>\n",
       "      <td>James Abraham</td>\n",
       "      <td>2647127163</td>\n",
       "      <td>Unassigned</td>\n",
       "      <td>Broadband</td>\n",
       "      <td>Ready</td>\n",
       "      <td>3645 DALLAS PKWY</td>\n",
       "      <td>PLANO</td>\n",
       "      <td>TX</td>\n",
       "      <td>75093</td>\n",
       "      <td>3645 DALLAS PKWY, PLANO, TX 75093</td>\n",
       "    </tr>\n",
       "    <tr>\n",
       "      <th>3</th>\n",
       "      <td>3/2/2024 14:05</td>\n",
       "      <td>Fusion</td>\n",
       "      <td>James Abraham</td>\n",
       "      <td>4606554875</td>\n",
       "      <td>Unassigned</td>\n",
       "      <td>EIA</td>\n",
       "      <td>Ready</td>\n",
       "      <td>3645 DALLAS PKWY</td>\n",
       "      <td>PLANO</td>\n",
       "      <td>TX</td>\n",
       "      <td>75093</td>\n",
       "      <td>3645 DALLAS PKWY, PLANO, TX 75093</td>\n",
       "    </tr>\n",
       "    <tr>\n",
       "      <th>4</th>\n",
       "      <td>3/2/2024 14:04</td>\n",
       "      <td>Fusion</td>\n",
       "      <td>James Abraham</td>\n",
       "      <td>3060623213</td>\n",
       "      <td>Unassigned</td>\n",
       "      <td>Broadband</td>\n",
       "      <td>Ready</td>\n",
       "      <td>330 MONROE AVE</td>\n",
       "      <td>ROCHESTER</td>\n",
       "      <td>NY</td>\n",
       "      <td>14607</td>\n",
       "      <td>330 MONROE AVE, ROCHESTER, NY 14607</td>\n",
       "    </tr>\n",
       "  </tbody>\n",
       "</table>\n",
       "</div>"
      ],
      "text/plain": [
       "     Request Date User Company Submitting User        RFQ# Responsible  \\\n",
       "0  3/2/2024 14:06       Fusion   James Abraham  5562126243  Unassigned   \n",
       "1  3/2/2024 14:06       Fusion   James Abraham  2009298532  Unassigned   \n",
       "2  3/2/2024 14:05       Fusion   James Abraham  2647127163  Unassigned   \n",
       "3  3/2/2024 14:05       Fusion   James Abraham  4606554875  Unassigned   \n",
       "4  3/2/2024 14:04       Fusion   James Abraham  3060623213  Unassigned   \n",
       "\n",
       "     Product Status           Address       City State    ZIP  \\\n",
       "0  Broadband  Ready    153 HAZARD AVE    ENFIELD    CT   6082   \n",
       "1        EIA  Ready    153 HAZARD AVE    ENFIELD    CT   6082   \n",
       "2  Broadband  Ready  3645 DALLAS PKWY      PLANO    TX  75093   \n",
       "3        EIA  Ready  3645 DALLAS PKWY      PLANO    TX  75093   \n",
       "4  Broadband  Ready    330 MONROE AVE  ROCHESTER    NY  14607   \n",
       "\n",
       "                           Old Address  \n",
       "0    153 HAZARD AVE, ENFIELD, CT 06082  \n",
       "1    153 HAZARD AVE, ENFIELD, CT 06082  \n",
       "2    3645 DALLAS PKWY, PLANO, TX 75093  \n",
       "3    3645 DALLAS PKWY, PLANO, TX 75093  \n",
       "4  330 MONROE AVE, ROCHESTER, NY 14607  "
      ]
     },
     "execution_count": 4,
     "metadata": {},
     "output_type": "execute_result"
    }
   ],
   "source": [
    "msbbet.head()"
   ]
  },
  {
   "cell_type": "code",
   "execution_count": 5,
   "metadata": {},
   "outputs": [],
   "source": [
    "msbbet['ZIP'] = msbbet['ZIP'].apply(lambda x : str(x).zfill(5))\n",
    "msbbet1 = msbbet.copy()\n",
    "msbbet1[\"Request Date\"] = pd.to_datetime(msbbet[\"Request Date\"], format=\"%m/%d/%Y %H:%M\").dt.strftime(\"%Y-%m-%d\")"
   ]
  },
  {
   "cell_type": "code",
   "execution_count": 6,
   "metadata": {},
   "outputs": [],
   "source": [
    "msbbet2 = msbbet1[['Request Date', 'User Company','Product', \n",
    "                  'Address', 'City', 'State', 'ZIP']]\n",
    "msbbet2.loc[(msbbet2['Product'] == 'EIA') | (msbbet2['Product'] == 'EPATH'), 'Product'] = 'Ethernet'"
   ]
  },
  {
   "cell_type": "code",
   "execution_count": 7,
   "metadata": {},
   "outputs": [],
   "source": [
    "splits = msbbet2['User Company'].str.split(' RFQ')\n",
    "cmpns = splits.str[0]\n",
    "msbbet3 = msbbet2.copy()\n",
    "msbbet3['User Company'] = cmpns\n",
    "ms = msbbet3"
   ]
  },
  {
   "cell_type": "code",
   "execution_count": 8,
   "metadata": {},
   "outputs": [
    {
     "name": "stderr",
     "output_type": "stream",
     "text": [
      "C:\\Users\\sss7371\\AppData\\Local\\Temp\\ipykernel_9996\\473013913.py:2: SettingWithCopyWarning: \n",
      "A value is trying to be set on a copy of a slice from a DataFrame.\n",
      "Try using .loc[row_indexer,col_indexer] = value instead\n",
      "\n",
      "See the caveats in the documentation: https://pandas.pydata.org/pandas-docs/stable/user_guide/indexing.html#returning-a-view-versus-a-copy\n",
      "  cbbb1['Product'] = 'Broadband'\n",
      "C:\\Users\\sss7371\\AppData\\Local\\Temp\\ipykernel_9996\\473013913.py:7: SettingWithCopyWarning: \n",
      "A value is trying to be set on a copy of a slice from a DataFrame.\n",
      "Try using .loc[row_indexer,col_indexer] = value instead\n",
      "\n",
      "See the caveats in the documentation: https://pandas.pydata.org/pandas-docs/stable/user_guide/indexing.html#returning-a-view-versus-a-copy\n",
      "  cbet1['Product'] = 'Ethernet'\n"
     ]
    }
   ],
   "source": [
    "cbbb1 = cb[(cb['Product'].isna())| (cb['Product'] == 'Broadband')| (cb['Product'] == 'Static IP')]\n",
    "cbbb1['Product'] = 'Broadband'\n",
    "\n",
    "cbet1 = cbet[(cbet['Product'].isna())| (cbet['Product'] == 'Ethernet - Switched w/COS') | \n",
    "            (cbet['Product'] == 'Ethernet - Switched w/COS2')| (cbet['Product'] == 'Ethernet - Switched')| \n",
    "            (cbet['Product'] == 'Dedicated Internet')]\n",
    "cbet1['Product'] = 'Ethernet'"
   ]
  },
  {
   "cell_type": "code",
   "execution_count": 9,
   "metadata": {},
   "outputs": [],
   "source": [
    "cb = pd.concat([cbbb1, cbet1])"
   ]
  },
  {
   "cell_type": "code",
   "execution_count": 10,
   "metadata": {},
   "outputs": [],
   "source": [
    "cb1 = cb.copy()\n",
    "cb1['Request Date'] = cb[\"Request Date\"].str[:10]"
   ]
  },
  {
   "cell_type": "code",
   "execution_count": 11,
   "metadata": {},
   "outputs": [],
   "source": [
    "cb1[\"Request Date\"] = pd.to_datetime(cb1[\"Request Date\"], format=\"%Y-%m-%d\")"
   ]
  },
  {
   "cell_type": "code",
   "execution_count": 12,
   "metadata": {},
   "outputs": [
    {
     "name": "stderr",
     "output_type": "stream",
     "text": [
      "C:\\Users\\sss7371\\AppData\\Local\\Temp\\ipykernel_9996\\4011195890.py:2: SettingWithCopyWarning: \n",
      "A value is trying to be set on a copy of a slice from a DataFrame.\n",
      "Try using .loc[row_indexer,col_indexer] = value instead\n",
      "\n",
      "See the caveats in the documentation: https://pandas.pydata.org/pandas-docs/stable/user_guide/indexing.html#returning-a-view-versus-a-copy\n",
      "  cb2['User Company'] = cb2['User Company'].fillna(cb2['Requesting Company'])\n"
     ]
    }
   ],
   "source": [
    "cb2 = cb1[(cb1['Country'] == 'USA')] #use contains\n",
    "cb2['User Company'] = cb2['User Company'].fillna(cb2['Requesting Company'])\n",
    "cb3 = cb2[(cb2['User Company'] != 'Frontier Communications Corporation')]\n",
    "cb3 = cb3.drop(['﻿Login', 'Error Message', 'Route', 'County', 'Country', \n",
    "                'Requesting Company', 'Target Company', 'Result'], axis = 1)\n",
    "cb3['Address'] = cb3['Address'].str.upper()\n",
    "cb3['City'] = cb3['City'].str.upper()"
   ]
  },
  {
   "cell_type": "code",
   "execution_count": 13,
   "metadata": {},
   "outputs": [],
   "source": [
    "cbma = pd.concat([ms,cb3])\n",
    "cbma[\"Request Date\"] = pd.to_datetime(cbma[\"Request Date\"], format=\"%Y-%m-%d\")"
   ]
  },
  {
   "cell_type": "code",
   "execution_count": 14,
   "metadata": {},
   "outputs": [],
   "source": [
    "states = ['AL', 'AZ', 'CA', 'CT', 'FL', 'GA', 'IA', 'IL' , 'IN', 'MI', 'MN', 'MS', 'NC', \n",
    "          'NE', 'NM', 'NV', 'NY', 'OH', 'PA', 'SC', 'TN', 'TX', 'UT', 'WI', 'WV' ]"
   ]
  },
  {
   "cell_type": "code",
   "execution_count": 15,
   "metadata": {},
   "outputs": [],
   "source": [
    "cbma1 = cbma[cbma['State'].isin(states)].sort_values(axis = 0, by = ['Request Date'])"
   ]
  },
  {
   "cell_type": "code",
   "execution_count": 16,
   "metadata": {},
   "outputs": [],
   "source": [
    "# rename output file\n",
    "cbma1.to_csv('FinalQueries.csv', index=False)"
   ]
  },
  {
   "cell_type": "code",
   "execution_count": null,
   "metadata": {},
   "outputs": [],
   "source": []
  }
 ],
 "metadata": {
  "kernelspec": {
   "display_name": "Python 3",
   "language": "python",
   "name": "python3"
  },
  "language_info": {
   "codemirror_mode": {
    "name": "ipython",
    "version": 3
   },
   "file_extension": ".py",
   "mimetype": "text/x-python",
   "name": "python",
   "nbconvert_exporter": "python",
   "pygments_lexer": "ipython3",
   "version": "3.11.3"
  }
 },
 "nbformat": 4,
 "nbformat_minor": 2
}

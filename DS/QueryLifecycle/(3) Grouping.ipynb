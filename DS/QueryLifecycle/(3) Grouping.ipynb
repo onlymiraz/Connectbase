{
 "cells": [
  {
   "cell_type": "code",
   "execution_count": 4,
   "metadata": {},
   "outputs": [],
   "source": [
    "import pandas as pd\n",
    "from datetime import datetime\n",
    "import numpy as np"
   ]
  },
  {
   "cell_type": "code",
   "execution_count": 5,
   "metadata": {},
   "outputs": [],
   "source": [
    "cbma1 = pd.read_csv(\"FinalQueries.csv\") \n",
    "\n",
    "'''.rename(columns={'Address':'CASS_Address', \n",
    "                            'City':'CASS_City', \n",
    "                            'State':'CASS_State', \n",
    "                            'ZIP':'CASS_ZIP'})'''"
   ]
  },
  {
   "cell_type": "code",
   "execution_count": 8,
   "metadata": {},
   "outputs": [],
   "source": [
    "eth = cbma1[cbma1['Product'] == 'Ethernet']\n",
    "bb = cbma1[cbma1['Product'] == 'Broadband']"
   ]
  },
  {
   "cell_type": "code",
   "execution_count": 19,
   "metadata": {},
   "outputs": [
    {
     "name": "stderr",
     "output_type": "stream",
     "text": [
      "C:\\Users\\sss7371\\AppData\\Local\\Temp\\ipykernel_6156\\2102813216.py:4: FutureWarning: The provided callable <function min at 0x000001E434ECEC00> is currently using SeriesGroupBy.min. In a future version of pandas, the provided callable will be used directly. To keep current behavior pass the string \"min\" instead.\n",
      "  ).agg(CRE=('Request Date', np.size),\n",
      "C:\\Users\\sss7371\\AppData\\Local\\Temp\\ipykernel_6156\\2102813216.py:4: FutureWarning: The provided callable <function max at 0x000001E434ECEAC0> is currently using SeriesGroupBy.max. In a future version of pandas, the provided callable will be used directly. To keep current behavior pass the string \"max\" instead.\n",
      "  ).agg(CRE=('Request Date', np.size),\n",
      "C:\\Users\\sss7371\\AppData\\Local\\Temp\\ipykernel_6156\\2102813216.py:11: FutureWarning: The provided callable <function min at 0x000001E434ECEC00> is currently using SeriesGroupBy.min. In a future version of pandas, the provided callable will be used directly. To keep current behavior pass the string \"min\" instead.\n",
      "  ).agg(CRB=('Request Date', np.size),\n",
      "C:\\Users\\sss7371\\AppData\\Local\\Temp\\ipykernel_6156\\2102813216.py:11: FutureWarning: The provided callable <function max at 0x000001E434ECEAC0> is currently using SeriesGroupBy.max. In a future version of pandas, the provided callable will be used directly. To keep current behavior pass the string \"max\" instead.\n",
      "  ).agg(CRB=('Request Date', np.size),\n"
     ]
    },
    {
     "data": {
      "text/plain": [
       "\"{'Count of Requests (E)' : np.sum,\\n                           'First Requested (E)': np.min,\\n                           'Last Requested (E)': np.max,\\n                           'Count of Requests (B)' : np.sum,\\n                           'First Requested (B)': np.min,\\n                           'Last Requested (B)': np.max,}\""
      ]
     },
     "execution_count": 19,
     "metadata": {},
     "output_type": "execute_result"
    }
   ],
   "source": [
    "ethGrouped = eth.groupby(['CASS_Address', 'CASS_City', 'CASS_State', 'CASS_ZIP'],\n",
    "                      dropna=False\n",
    "                       ).agg(CRE=('Request Date', np.size),\n",
    "                            FRE=('Request Date', np.min),\n",
    "                            LRE=('Request Date', np.max) ,\n",
    "                            ).reset_index()\n",
    "\n",
    "bbGrouped = bb.groupby(['CASS_Address', 'CASS_City', 'CASS_State', 'CASS_ZIP'],\n",
    "                      dropna=False\n",
    "                       ).agg(CRB=('Request Date', np.size),\n",
    "                            FRB=('Request Date', np.min),\n",
    "                            LRB=('Request Date', np.max) ,\n",
    "                            ).reset_index()"
   ]
  },
  {
   "cell_type": "code",
   "execution_count": 25,
   "metadata": {},
   "outputs": [],
   "source": [
    "merged = bbGrouped.merge(ethGrouped, on=['CASS_Address', 'CASS_City', 'CASS_State', 'CASS_ZIP'], how='outer'\n",
    "                         ).rename(columns={'CRE':'Count of Requests (E)',\n",
    "                                            'FRE':'First Requested (E)',\n",
    "                                            'LRE':'Last Requested (E)',\n",
    "                                            'CRB':'Count of Requests (B)',\n",
    "                                            'FRB':'First Requested (B)',\n",
    "                                            'LRB':'Last Requested (B)'})"
   ]
  },
  {
   "cell_type": "code",
   "execution_count": 31,
   "metadata": {},
   "outputs": [],
   "source": [
    "cols = ['First Requested (E)', 'Last Requested (E)', 'First Requested (B)', 'Last Requested (B)']\n",
    "merged[cols] = merged[cols].apply(pd.to_datetime, format = \"%Y-%m-%d\")"
   ]
  },
  {
   "cell_type": "code",
   "execution_count": 32,
   "metadata": {},
   "outputs": [],
   "source": [
    "merged['Days Between First and Last Request (B)'] = (merged['Last Requested (B)'] - merged['First Requested (B)'])\n",
    "merged['Days Between First and Last Request (E)'] = (merged['Last Requested (E)'] - merged['First Requested (E)'])"
   ]
  },
  {
   "cell_type": "code",
   "execution_count": 119,
   "metadata": {},
   "outputs": [],
   "source": [
    "merged.to_csv('FinalAddresses.csv', index=False)"
   ]
  }
 ],
 "metadata": {
  "kernelspec": {
   "display_name": "Python 3",
   "language": "python",
   "name": "python3"
  },
  "language_info": {
   "codemirror_mode": {
    "name": "ipython",
    "version": 3
   },
   "file_extension": ".py",
   "mimetype": "text/x-python",
   "name": "python",
   "nbconvert_exporter": "python",
   "pygments_lexer": "ipython3",
   "version": "3.11.3"
  }
 },
 "nbformat": 4,
 "nbformat_minor": 2
}
